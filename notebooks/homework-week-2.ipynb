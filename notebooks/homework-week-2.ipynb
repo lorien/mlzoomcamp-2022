{
 "cells": [
  {
   "cell_type": "code",
   "execution_count": 689,
   "id": "5ba86951",
   "metadata": {},
   "outputs": [],
   "source": [
    "import pandas as pd\n",
    "import numpy as np\n",
    "import seaborn as sns\n",
    "import matplotlib.pyplot as plt\n",
    "%matplotlib inline"
   ]
  },
  {
   "cell_type": "code",
   "execution_count": 690,
   "id": "cfe8d733",
   "metadata": {},
   "outputs": [],
   "source": [
    "df = pd.read_csv(\"../data/homework-02-housing.csv\")"
   ]
  },
  {
   "cell_type": "code",
   "execution_count": 691,
   "id": "0971e381",
   "metadata": {},
   "outputs": [],
   "source": [
    "WORK_COLS = ['latitude',\n",
    "'longitude',\n",
    "'housing_median_age',\n",
    "'total_rooms',\n",
    "'total_bedrooms',\n",
    "'population',\n",
    "'households',\n",
    "'median_income',\n",
    "'median_house_value']"
   ]
  },
  {
   "cell_type": "code",
   "execution_count": 692,
   "id": "92156008",
   "metadata": {},
   "outputs": [],
   "source": [
    "df = df[WORK_COLS]"
   ]
  },
  {
   "cell_type": "code",
   "execution_count": 693,
   "id": "9271dbdf",
   "metadata": {},
   "outputs": [
    {
     "data": {
      "text/plain": [
       "latitude                0\n",
       "longitude               0\n",
       "housing_median_age      0\n",
       "total_rooms             0\n",
       "total_bedrooms        207\n",
       "population              0\n",
       "households              0\n",
       "median_income           0\n",
       "median_house_value      0\n",
       "dtype: int64"
      ]
     },
     "execution_count": 693,
     "metadata": {},
     "output_type": "execute_result"
    }
   ],
   "source": [
    "df.isnull().sum()"
   ]
  },
  {
   "cell_type": "code",
   "execution_count": 694,
   "id": "91de6712",
   "metadata": {},
   "outputs": [
    {
     "data": {
      "text/plain": [
       "1166.0"
      ]
     },
     "execution_count": 694,
     "metadata": {},
     "output_type": "execute_result"
    }
   ],
   "source": [
    "df[\"population\"].median()"
   ]
  },
  {
   "cell_type": "code",
   "execution_count": 695,
   "id": "e8c96908",
   "metadata": {},
   "outputs": [],
   "source": [
    "def split_data(df, seed):\n",
    "    df_len = len(df)\n",
    "    df_idx = np.arange(df_len)\n",
    "    assert df_len == len(df_idx)\n",
    "    #print(df_len, df_idx)\n",
    "\n",
    "    np.random.seed(seed)\n",
    "    np.random.shuffle(df_idx)\n",
    "    #print(df_idx)\n",
    "\n",
    "    train_len = int(df_len * 0.6)\n",
    "    val_len = int(df_len * 0.2)\n",
    "    test_len = df_len - (train_size + val_size)\n",
    "    assert df_len == (train_len + val_len + test_len)\n",
    "    #print(train_len, val_len, test_len)\n",
    "\n",
    "    df_train = df.iloc[df_idx[:train_len]]\n",
    "    df_val = df.iloc[df_idx[train_len:train_len + val_len]]\n",
    "    df_test = df.iloc[df_idx[train_len + val_len:]]\n",
    "\n",
    "    assert len(df_train) == train_len and len(df_val) == val_len and len(df_test) == test_len\n",
    "\n",
    "    y_train = df_train[\"median_house_value\"]\n",
    "    y_val = df_val[\"median_house_value\"]\n",
    "    y_test = df_test[\"median_house_value\"]\n",
    "\n",
    "    del df_train[\"median_house_value\"]\n",
    "    del df_val[\"median_house_value\"]\n",
    "    del df_test[\"median_house_value\"]\n",
    "\n",
    "    assert \"median_house_value\" not in df_train.columns.values\n",
    "    assert \"median_house_value\" not in df_val.columns.values\n",
    "    assert \"median_house_value\" not in df_test.columns.values\n",
    "\n",
    "    y_train = np.log1p(y_train.values)\n",
    "    y_val = np.log1p(y_val.values)\n",
    "    y_test = np.log1p(y_test.values)\n",
    "    \n",
    "    return df_train, df_val, df_test, y_train, y_val, y_test"
   ]
  },
  {
   "cell_type": "code",
   "execution_count": 696,
   "id": "cbef76ab",
   "metadata": {},
   "outputs": [],
   "source": [
    "df_train, df_val, df_test, y_train, y_val, y_test = split_data(df, 42)"
   ]
  },
  {
   "cell_type": "code",
   "execution_count": 697,
   "id": "3656eb45",
   "metadata": {},
   "outputs": [],
   "source": [
    "def train(_X, _y, _reg):\n",
    "    # w = inv(XT * X) * XT * y\n",
    "    _X = np.column_stack([np.ones(_X.shape[0]), _X])\n",
    "    _XT = _X.T\n",
    "    _XTX = _X.T.dot(_X)\n",
    "    _XTX = _XTX + _reg * np.eye(_XTX.shape[0])\n",
    "    _XTX_inv = np.linalg.inv(_XTX)\n",
    "    _w_full = _XTX_inv.dot(_XT).dot(_y)\n",
    "    return _w_full[0], _w_full[1:]"
   ]
  },
  {
   "cell_type": "code",
   "execution_count": 698,
   "id": "bb7a79f6",
   "metadata": {},
   "outputs": [],
   "source": [
    "def prepare(_X, _na_fill):\n",
    "    return _X.fillna(_na_fill).values"
   ]
  },
  {
   "cell_type": "code",
   "execution_count": 699,
   "id": "d77a2d9d",
   "metadata": {},
   "outputs": [],
   "source": [
    "def rmse(_pred, _train):\n",
    "    return np.sqrt(((_pred - _train) ** 2).mean())"
   ]
  },
  {
   "cell_type": "code",
   "execution_count": 700,
   "id": "829d7b74",
   "metadata": {},
   "outputs": [],
   "source": [
    "def test_params(_df_train, _y_train, _df_val, _y_val, _na_fill, _reg):\n",
    "    _w0, _w = train(prepare(_df_train, _na_fill), _y_train, _reg)\n",
    "    _y_pred = _w0 + prepare(_df_val, _na_fill).dot(_w)\n",
    "    return round(rmse(_y_pred, _y_val), 2)"
   ]
  },
  {
   "cell_type": "code",
   "execution_count": 708,
   "id": "c67d7533",
   "metadata": {},
   "outputs": [
    {
     "name": "stdout",
     "output_type": "stream",
     "text": [
      "zero --> 0.34\n",
      "mean() --> 0.34\n"
     ]
    }
   ],
   "source": [
    "print(\"zero -->\", test_params(df_train, y_train, df_val, y_val, 0, 0))\n",
    "print(\"mean() -->\", test_params(df_train, y_train, df_val, y_val, df_train.total_bedrooms.mean(), 0))"
   ]
  },
  {
   "cell_type": "code",
   "execution_count": 703,
   "id": "dbd855eb",
   "metadata": {},
   "outputs": [
    {
     "name": "stdout",
     "output_type": "stream",
     "text": [
      "0 --> 0.33\n",
      "1e-06 --> 0.33\n",
      "0.0001 --> 0.33\n",
      "0.001 --> 0.33\n",
      "0.01 --> 0.33\n",
      "0.1 --> 0.33\n",
      "1 --> 0.33\n",
      "5 --> 0.34\n",
      "10 --> 0.34\n"
     ]
    }
   ],
   "source": [
    "for reg in [0, 0.000001, 0.0001, 0.001, 0.01, 0.1, 1, 5, 10]:\n",
    "    print(reg, \"-->\", test_params(df_train, y_train, df_val, y_val, 0, reg))"
   ]
  },
  {
   "cell_type": "code",
   "execution_count": 712,
   "id": "c5ce274e",
   "metadata": {},
   "outputs": [
    {
     "name": "stdout",
     "output_type": "stream",
     "text": [
      "0.005\n"
     ]
    }
   ],
   "source": [
    "errors = []\n",
    "for seed in [0, 1, 2, 3, 4, 5, 6, 7, 8, 9]:\n",
    "    df_train, df_val, df_test, y_train, y_val, y_test = split_data(df, seed)\n",
    "    err = test_params(df_train, y_train, df_val, y_val, 0, 0)\n",
    "    errors.append(err)\n",
    "print(round(np.array(errors).std(), 3))"
   ]
  },
  {
   "cell_type": "code",
   "execution_count": 705,
   "id": "74dd70a1",
   "metadata": {},
   "outputs": [
    {
     "data": {
      "text/plain": [
       "0.35"
      ]
     },
     "execution_count": 705,
     "metadata": {},
     "output_type": "execute_result"
    }
   ],
   "source": [
    "df_train, df_val, df_test, y_train, y_val, y_test = split_data(df, 9)\n",
    "test_params(pd.concat([df_train, df_val]), np.concatenate([y_train, y_val]), df_test, y_test, 0, 0.001)"
   ]
  },
  {
   "cell_type": "code",
   "execution_count": 734,
   "id": "2791004d",
   "metadata": {},
   "outputs": [
    {
     "name": "stdout",
     "output_type": "stream",
     "text": [
      "136900.0000000001\n",
      "191788.91917017836\n"
     ]
    },
    {
     "data": {
      "image/png": "[encoded data removed]",
      "text/plain": [
       "<Figure size 640x480 with 1 Axes>"
      ]
     },
     "metadata": {},
     "output_type": "display_data"
    }
   ],
   "source": [
    "def foo():\n",
    "    df_train, df_val, df_test, y_train, y_val, y_test = split_data(df, 0)\n",
    "    na_fill = 0\n",
    "    w0, w = train(prepare(df_train, na_fill), y_train, 0)\n",
    "    y_pred = w0 + df_train.fillna(na_fill).values.dot(w)\n",
    "    print(np.expm1(y_train[0]))\n",
    "    print(np.expm1(y_pred[0]))\n",
    "    sns.histplot(np.expm1(y_train), color=\"blue\", alpha=0.5)\n",
    "    sns.histplot(np.expm1(y_pred), color=\"red\", alpha=0.5)\n",
    "    \n",
    "foo()"
   ]
  },
  {
   "cell_type": "code",
   "execution_count": 735,
   "id": "cccf1850",
   "metadata": {},
   "outputs": [
    {
     "data": {
      "text/plain": [
       "2"
      ]
     },
     "execution_count": 735,
     "metadata": {},
     "output_type": "execute_result"
    }
   ],
   "source": [
    "1+1"
   ]
  }
 ],
 "metadata": {
  "kernelspec": {
   "display_name": "mlzoomcamp-venv",
   "language": "python",
   "name": "mlzoomcamp-venv"
  },
  "language_info": {
   "codemirror_mode": {
    "name": "ipython",
    "version": 3
   },
   "file_extension": ".py",
   "mimetype": "text/x-python",
   "name": "python",
   "nbconvert_exporter": "python",
   "pygments_lexer": "ipython3",
   "version": "3.9.2"
  }
 },
 "nbformat": 4,
 "nbformat_minor": 5
}
